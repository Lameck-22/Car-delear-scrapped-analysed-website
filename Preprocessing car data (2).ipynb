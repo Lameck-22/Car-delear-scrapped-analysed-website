{
 "cells": [
  {
   "cell_type": "code",
   "execution_count": 2,
   "id": "cc411631-6f4e-4e91-bd0a-e89da7519542",
   "metadata": {},
   "outputs": [],
   "source": [
    "import pandas as pd\n",
    "import numpy as np"
   ]
  },
  {
   "cell_type": "code",
   "execution_count": 3,
   "id": "4af2805a-7607-45c9-9972-2985c4b8f4fc",
   "metadata": {},
   "outputs": [],
   "source": [
    "df = pd.read_csv(r'car_df.csv')"
   ]
  },
  {
   "cell_type": "code",
   "execution_count": 4,
   "id": "91a5246a-f2c8-4832-a569-691369bef817",
   "metadata": {},
   "outputs": [
    {
     "data": {
      "text/html": [
       "<div>\n",
       "<style scoped>\n",
       "    .dataframe tbody tr th:only-of-type {\n",
       "        vertical-align: middle;\n",
       "    }\n",
       "\n",
       "    .dataframe tbody tr th {\n",
       "        vertical-align: top;\n",
       "    }\n",
       "\n",
       "    .dataframe thead th {\n",
       "        text-align: right;\n",
       "    }\n",
       "</style>\n",
       "<table border=\"1\" class=\"dataframe\">\n",
       "  <thead>\n",
       "    <tr style=\"text-align: right;\">\n",
       "      <th></th>\n",
       "      <th>Name</th>\n",
       "      <th>Transimission_Type</th>\n",
       "      <th>Engine_Size</th>\n",
       "      <th>Usage_Origin</th>\n",
       "      <th>Year</th>\n",
       "      <th>Price</th>\n",
       "    </tr>\n",
       "  </thead>\n",
       "  <tbody>\n",
       "    <tr>\n",
       "      <th>0</th>\n",
       "      <td>Volvo S60</td>\n",
       "      <td>Automatic</td>\n",
       "      <td>1500 CC</td>\n",
       "      <td>Kenyan Used</td>\n",
       "      <td>2016</td>\n",
       "      <td>KES 1,699,999</td>\n",
       "    </tr>\n",
       "    <tr>\n",
       "      <th>1</th>\n",
       "      <td>Toyota Landcruiser Prado</td>\n",
       "      <td>Automatic</td>\n",
       "      <td>2700 CC</td>\n",
       "      <td>Kenyan Used</td>\n",
       "      <td>2017</td>\n",
       "      <td>KES 5,799,999</td>\n",
       "    </tr>\n",
       "    <tr>\n",
       "      <th>2</th>\n",
       "      <td>Mazda CX3</td>\n",
       "      <td>Automatic</td>\n",
       "      <td>2000 CC</td>\n",
       "      <td>Foreign Used</td>\n",
       "      <td>2017</td>\n",
       "      <td>KES 2,499,999</td>\n",
       "    </tr>\n",
       "    <tr>\n",
       "      <th>3</th>\n",
       "      <td>Toyota Cami</td>\n",
       "      <td>Automatic</td>\n",
       "      <td>1300 CC</td>\n",
       "      <td>Kenyan Used</td>\n",
       "      <td>2004</td>\n",
       "      <td>KES 579,999</td>\n",
       "    </tr>\n",
       "    <tr>\n",
       "      <th>4</th>\n",
       "      <td>BMW X1</td>\n",
       "      <td>Automatic</td>\n",
       "      <td>2000 CC</td>\n",
       "      <td>Foreign Used</td>\n",
       "      <td>2017</td>\n",
       "      <td>KES 3,799,999</td>\n",
       "    </tr>\n",
       "    <tr>\n",
       "      <th>...</th>\n",
       "      <td>...</td>\n",
       "      <td>...</td>\n",
       "      <td>...</td>\n",
       "      <td>...</td>\n",
       "      <td>...</td>\n",
       "      <td>...</td>\n",
       "    </tr>\n",
       "    <tr>\n",
       "      <th>2635</th>\n",
       "      <td>Toyota Auris</td>\n",
       "      <td>Automatic</td>\n",
       "      <td>1500 CC</td>\n",
       "      <td>Foreign Used</td>\n",
       "      <td>2016</td>\n",
       "      <td>KES 1,800,000</td>\n",
       "    </tr>\n",
       "    <tr>\n",
       "      <th>2636</th>\n",
       "      <td>Peugeot 207</td>\n",
       "      <td>Automatic</td>\n",
       "      <td>1600 CC</td>\n",
       "      <td>Kenyan Used</td>\n",
       "      <td>2012</td>\n",
       "      <td>KES 950,000</td>\n",
       "    </tr>\n",
       "    <tr>\n",
       "      <th>2637</th>\n",
       "      <td>Mazda Atenza</td>\n",
       "      <td>Automatic</td>\n",
       "      <td>2200 CC</td>\n",
       "      <td>Foreign Used</td>\n",
       "      <td>2016</td>\n",
       "      <td>KES 2,150,000</td>\n",
       "    </tr>\n",
       "    <tr>\n",
       "      <th>2638</th>\n",
       "      <td>Isuzu Elf Light Truck</td>\n",
       "      <td>Automatic</td>\n",
       "      <td>Foreign Used</td>\n",
       "      <td>Foreign Used</td>\n",
       "      <td>2014</td>\n",
       "      <td>KES 1,850,000</td>\n",
       "    </tr>\n",
       "    <tr>\n",
       "      <th>2639</th>\n",
       "      <td>Jaguar XJ</td>\n",
       "      <td>Automatic</td>\n",
       "      <td>2000 CC</td>\n",
       "      <td>Foreign Used</td>\n",
       "      <td>2014</td>\n",
       "      <td>KES 4,100,000</td>\n",
       "    </tr>\n",
       "  </tbody>\n",
       "</table>\n",
       "<p>2640 rows × 6 columns</p>\n",
       "</div>"
      ],
      "text/plain": [
       "                          Name Transimission_Type   Engine_Size  Usage_Origin  \\\n",
       "0                    Volvo S60          Automatic       1500 CC   Kenyan Used   \n",
       "1     Toyota Landcruiser Prado          Automatic       2700 CC   Kenyan Used   \n",
       "2                    Mazda CX3          Automatic       2000 CC  Foreign Used   \n",
       "3                  Toyota Cami          Automatic       1300 CC   Kenyan Used   \n",
       "4                       BMW X1          Automatic       2000 CC  Foreign Used   \n",
       "...                        ...                ...           ...           ...   \n",
       "2635              Toyota Auris          Automatic       1500 CC  Foreign Used   \n",
       "2636               Peugeot 207          Automatic       1600 CC   Kenyan Used   \n",
       "2637              Mazda Atenza          Automatic       2200 CC  Foreign Used   \n",
       "2638     Isuzu Elf Light Truck          Automatic  Foreign Used  Foreign Used   \n",
       "2639                 Jaguar XJ          Automatic       2000 CC  Foreign Used   \n",
       "\n",
       "      Year          Price  \n",
       "0     2016  KES 1,699,999  \n",
       "1     2017  KES 5,799,999  \n",
       "2     2017  KES 2,499,999  \n",
       "3     2004    KES 579,999  \n",
       "4     2017  KES 3,799,999  \n",
       "...    ...            ...  \n",
       "2635  2016  KES 1,800,000  \n",
       "2636  2012    KES 950,000  \n",
       "2637  2016  KES 2,150,000  \n",
       "2638  2014  KES 1,850,000  \n",
       "2639  2014  KES 4,100,000  \n",
       "\n",
       "[2640 rows x 6 columns]"
      ]
     },
     "execution_count": 4,
     "metadata": {},
     "output_type": "execute_result"
    }
   ],
   "source": [
    "df"
   ]
  },
  {
   "cell_type": "code",
   "execution_count": 6,
   "id": "a5049ef7-949b-476f-aef7-93b085dde2bf",
   "metadata": {},
   "outputs": [
    {
     "name": "stdout",
     "output_type": "stream",
     "text": [
      "<class 'pandas.core.frame.DataFrame'>\n",
      "RangeIndex: 2640 entries, 0 to 2639\n",
      "Data columns (total 6 columns):\n",
      " #   Column              Non-Null Count  Dtype \n",
      "---  ------              --------------  ----- \n",
      " 0   Name                2640 non-null   object\n",
      " 1   Transimission_Type  2640 non-null   object\n",
      " 2   Engine_Size         2640 non-null   object\n",
      " 3   Usage_Origin        2640 non-null   object\n",
      " 4   Year                2640 non-null   int64 \n",
      " 5   Price               2640 non-null   object\n",
      "dtypes: int64(1), object(5)\n",
      "memory usage: 123.9+ KB\n"
     ]
    }
   ],
   "source": [
    "df.info()"
   ]
  },
  {
   "cell_type": "markdown",
   "id": "e3351aa7-1ba3-4036-bf5c-7f336764ab1f",
   "metadata": {},
   "source": [
    "## Null"
   ]
  },
  {
   "cell_type": "code",
   "execution_count": 7,
   "id": "620138fe-cfb3-4c86-a4cd-40e033d7a891",
   "metadata": {},
   "outputs": [
    {
     "data": {
      "text/plain": [
       "Name                  0\n",
       "Transimission_Type    0\n",
       "Engine_Size           0\n",
       "Usage_Origin          0\n",
       "Year                  0\n",
       "Price                 0\n",
       "dtype: int64"
      ]
     },
     "execution_count": 7,
     "metadata": {},
     "output_type": "execute_result"
    }
   ],
   "source": [
    "df.isnull().sum()"
   ]
  },
  {
   "cell_type": "markdown",
   "id": "c16f1b3a-451d-4d06-af44-03920a6c8ec5",
   "metadata": {},
   "source": [
    "## Checking for duplicates"
   ]
  },
  {
   "cell_type": "code",
   "execution_count": 8,
   "id": "27bbfcdb-c8c1-49f3-b9cc-1091b710084a",
   "metadata": {},
   "outputs": [
    {
     "data": {
      "text/plain": [
       "77"
      ]
     },
     "execution_count": 8,
     "metadata": {},
     "output_type": "execute_result"
    }
   ],
   "source": [
    "df.duplicated().sum()"
   ]
  },
  {
   "cell_type": "markdown",
   "id": "6bc43b1a-1f8f-4a2b-9b13-1b39652b2d1d",
   "metadata": {},
   "source": [
    "## Removing duplicates"
   ]
  },
  {
   "cell_type": "code",
   "execution_count": 9,
   "id": "2e4eb7eb-ed00-4d9b-a8e5-2e25c6054fea",
   "metadata": {},
   "outputs": [],
   "source": [
    "df2= df.drop_duplicates()"
   ]
  },
  {
   "cell_type": "code",
   "execution_count": 10,
   "id": "941845ff-4893-44da-bcc5-a80d7e398a20",
   "metadata": {},
   "outputs": [
    {
     "name": "stdout",
     "output_type": "stream",
     "text": [
      "<class 'pandas.core.frame.DataFrame'>\n",
      "Index: 2563 entries, 0 to 2639\n",
      "Data columns (total 6 columns):\n",
      " #   Column              Non-Null Count  Dtype \n",
      "---  ------              --------------  ----- \n",
      " 0   Name                2563 non-null   object\n",
      " 1   Transimission_Type  2563 non-null   object\n",
      " 2   Engine_Size         2563 non-null   object\n",
      " 3   Usage_Origin        2563 non-null   object\n",
      " 4   Year                2563 non-null   int64 \n",
      " 5   Price               2563 non-null   object\n",
      "dtypes: int64(1), object(5)\n",
      "memory usage: 140.2+ KB\n"
     ]
    }
   ],
   "source": [
    "df2.info()"
   ]
  },
  {
   "cell_type": "markdown",
   "id": "8cd9dd04-6e4f-4ca9-ae25-2d8b2ff21801",
   "metadata": {},
   "source": [
    "## Data Inconsistency"
   ]
  },
  {
   "cell_type": "code",
   "execution_count": 11,
   "id": "b121aeed-da19-453f-b250-4aab13cc804c",
   "metadata": {},
   "outputs": [
    {
     "data": {
      "text/plain": [
       "array(['Automatic', 'Foreign Used', 'Manual', 'Kenyan Used'], dtype=object)"
      ]
     },
     "execution_count": 11,
     "metadata": {},
     "output_type": "execute_result"
    }
   ],
   "source": [
    "df2['Transimission_Type'].unique()"
   ]
  },
  {
   "cell_type": "code",
   "execution_count": 12,
   "id": "10128ac8-db5c-4e2d-bf2f-30da203ca305",
   "metadata": {},
   "outputs": [
    {
     "data": {
      "text/plain": [
       "array(['1500 CC', '2700 CC', '2000 CC', '1300 CC', '1200 CC', '1000 CC',\n",
       "       '3300 CC', '2500 CC', '4000 CC', '3000 CC', '2400 CC', '180 CC',\n",
       "       '1600 CC', '3500 CC', ' ', '4600 CC', '2200 CC', '1800 CC',\n",
       "       '2800 CC', '1400 CC', '6750 CC', '5600 CC', '3600 CC', '2140 CC',\n",
       "       '4500 CC', '6000 CC', '4400 CC', '660 CC', '5700 CC', '5000 CC',\n",
       "       '2100 CC', '3200 CC', '2900 CC', '6400 CC', '3800 CC', '3900 CC',\n",
       "       '5500 CC', '2993 CC', '4200 CC', '2300 CC', '4700 CC', '2143 CC',\n",
       "       '2018 CC', '2017 CC', '2600 CC', '6200 CC', 'Foreign Used',\n",
       "       'Kenyan Used', '2148 CC', '750 CC', '900 CC', '2350 CC', '5200 CC',\n",
       "       '1242 CC', '650 CC', '4300 CC', '2956 CC', '1499 CC'], dtype=object)"
      ]
     },
     "execution_count": 12,
     "metadata": {},
     "output_type": "execute_result"
    }
   ],
   "source": [
    "df2['Engine_Size'].unique()"
   ]
  },
  {
   "cell_type": "code",
   "execution_count": 14,
   "id": "296d2c9f-c5f2-48b5-b5db-8ad3c4591359",
   "metadata": {},
   "outputs": [
    {
     "data": {
      "text/plain": [
       "array(['Kenyan Used', 'Foreign Used'], dtype=object)"
      ]
     },
     "execution_count": 14,
     "metadata": {},
     "output_type": "execute_result"
    }
   ],
   "source": [
    "df2['Usage_Origin'].unique()"
   ]
  },
  {
   "cell_type": "code",
   "execution_count": 15,
   "id": "7078ecfc-c315-4d44-92dd-ca007e622928",
   "metadata": {},
   "outputs": [
    {
     "data": {
      "text/plain": [
       "array([2016, 2017, 2004, 2015, 2023, 2013, 2018, 2019, 2021, 2020, 2012,\n",
       "       2006, 2010, 2014, 2007, 2008, 2022, 2005, 2011, 2001, 1998, 2009,\n",
       "       1999, 2002, 2000, 2003, 2024, 1986, 1997, 1996, 1990, 1979, 1981,\n",
       "       1989, 1994, 1995], dtype=int64)"
      ]
     },
     "execution_count": 15,
     "metadata": {},
     "output_type": "execute_result"
    }
   ],
   "source": [
    "df2['Year'].unique()"
   ]
  },
  {
   "cell_type": "code",
   "execution_count": 16,
   "id": "aeb65fe6-f8c6-4ae4-bd95-7e7f79526d17",
   "metadata": {},
   "outputs": [
    {
     "data": {
      "text/html": [
       "<div>\n",
       "<style scoped>\n",
       "    .dataframe tbody tr th:only-of-type {\n",
       "        vertical-align: middle;\n",
       "    }\n",
       "\n",
       "    .dataframe tbody tr th {\n",
       "        vertical-align: top;\n",
       "    }\n",
       "\n",
       "    .dataframe thead th {\n",
       "        text-align: right;\n",
       "    }\n",
       "</style>\n",
       "<table border=\"1\" class=\"dataframe\">\n",
       "  <thead>\n",
       "    <tr style=\"text-align: right;\">\n",
       "      <th></th>\n",
       "      <th>Name</th>\n",
       "      <th>Transimission_Type</th>\n",
       "      <th>Engine_Size</th>\n",
       "      <th>Usage_Origin</th>\n",
       "      <th>Year</th>\n",
       "      <th>Price</th>\n",
       "    </tr>\n",
       "  </thead>\n",
       "  <tbody>\n",
       "    <tr>\n",
       "      <th>2607</th>\n",
       "      <td>Mercedes-Benz E350 D</td>\n",
       "      <td>Automatic</td>\n",
       "      <td>3000 CC</td>\n",
       "      <td>Foreign Used</td>\n",
       "      <td>2017</td>\n",
       "      <td>£26,052</td>\n",
       "    </tr>\n",
       "  </tbody>\n",
       "</table>\n",
       "</div>"
      ],
      "text/plain": [
       "                      Name Transimission_Type Engine_Size  Usage_Origin  Year  \\\n",
       "2607  Mercedes-Benz E350 D          Automatic     3000 CC  Foreign Used  2017   \n",
       "\n",
       "        Price  \n",
       "2607  £26,052  "
      ]
     },
     "execution_count": 16,
     "metadata": {},
     "output_type": "execute_result"
    }
   ],
   "source": [
    "# Check if there are other currencies\n",
    "other_currencies = df2[~df2['Price'].str.contains('KES')]\n",
    "other_currencies"
   ]
  },
  {
   "cell_type": "markdown",
   "id": "456282cf-855a-4ead-9d1c-a854c6a6ef94",
   "metadata": {},
   "source": [
    "## Initial Cleaning"
   ]
  },
  {
   "cell_type": "markdown",
   "id": "c5c7bb00-8ed6-4a48-bd13-de97ad2acf5e",
   "metadata": {},
   "source": [
    "### (i) Transmission types"
   ]
  },
  {
   "cell_type": "code",
   "execution_count": 17,
   "id": "489738d5-1e9d-44ea-9a33-63dad17eebd7",
   "metadata": {},
   "outputs": [
    {
     "data": {
      "text/html": [
       "<div>\n",
       "<style scoped>\n",
       "    .dataframe tbody tr th:only-of-type {\n",
       "        vertical-align: middle;\n",
       "    }\n",
       "\n",
       "    .dataframe tbody tr th {\n",
       "        vertical-align: top;\n",
       "    }\n",
       "\n",
       "    .dataframe thead th {\n",
       "        text-align: right;\n",
       "    }\n",
       "</style>\n",
       "<table border=\"1\" class=\"dataframe\">\n",
       "  <thead>\n",
       "    <tr style=\"text-align: right;\">\n",
       "      <th></th>\n",
       "      <th>Name</th>\n",
       "      <th>Transimission_Type</th>\n",
       "      <th>Engine_Size</th>\n",
       "      <th>Usage_Origin</th>\n",
       "      <th>Year</th>\n",
       "      <th>Price</th>\n",
       "    </tr>\n",
       "  </thead>\n",
       "  <tbody>\n",
       "    <tr>\n",
       "      <th>33</th>\n",
       "      <td>Volkswagen Golf R</td>\n",
       "      <td>Foreign Used</td>\n",
       "      <td></td>\n",
       "      <td>Foreign Used</td>\n",
       "      <td>2018</td>\n",
       "      <td>KES 4,450,500</td>\n",
       "    </tr>\n",
       "    <tr>\n",
       "      <th>765</th>\n",
       "      <td>Toyota Landcruiser</td>\n",
       "      <td>Foreign Used</td>\n",
       "      <td></td>\n",
       "      <td>Foreign Used</td>\n",
       "      <td>2017</td>\n",
       "      <td>KES 10,450,000</td>\n",
       "    </tr>\n",
       "  </tbody>\n",
       "</table>\n",
       "</div>"
      ],
      "text/plain": [
       "                   Name Transimission_Type Engine_Size  Usage_Origin  Year  \\\n",
       "33    Volkswagen Golf R       Foreign Used              Foreign Used  2018   \n",
       "765  Toyota Landcruiser       Foreign Used              Foreign Used  2017   \n",
       "\n",
       "              Price  \n",
       "33    KES 4,450,500  \n",
       "765  KES 10,450,000  "
      ]
     },
     "execution_count": 17,
     "metadata": {},
     "output_type": "execute_result"
    }
   ],
   "source": [
    "# Identify rows with 'Foreign Used' values\n",
    "df2[df2['Transimission_Type'] == 'Foreign Used']"
   ]
  },
  {
   "cell_type": "markdown",
   "id": "04aa3511-1df9-4e35-ad95-ade3aedf7797",
   "metadata": {},
   "source": [
    "Two rows were found to have inconsistencies hence to be dropped."
   ]
  },
  {
   "cell_type": "code",
   "execution_count": 19,
   "id": "7a92a42c-9a5f-4f68-9877-8c1a1bd504df",
   "metadata": {},
   "outputs": [
    {
     "name": "stderr",
     "output_type": "stream",
     "text": [
      "C:\\Users\\LAMECK OMENDA\\AppData\\Local\\Temp\\ipykernel_6564\\859860628.py:1: SettingWithCopyWarning: \n",
      "A value is trying to be set on a copy of a slice from a DataFrame.\n",
      "Try using .loc[row_indexer,col_indexer] = value instead\n",
      "\n",
      "See the caveats in the documentation: https://pandas.pydata.org/pandas-docs/stable/user_guide/indexing.html#returning-a-view-versus-a-copy\n",
      "  df2['Transimission_Type'] = df2['Transimission_Type'].replace('Foreign Used', '')\n"
     ]
    }
   ],
   "source": [
    "df2['Transimission_Type'] = df2['Transimission_Type'].replace('Foreign Used', '')"
   ]
  },
  {
   "cell_type": "markdown",
   "id": "a6331d6a-a182-4dc5-a242-007f7310bcfe",
   "metadata": {},
   "source": [
    "Confirm if indeed they are dropped."
   ]
  },
  {
   "cell_type": "code",
   "execution_count": 56,
   "id": "d0a9c4f4-fb92-45ea-890f-736193667f1f",
   "metadata": {},
   "outputs": [
    {
     "name": "stderr",
     "output_type": "stream",
     "text": [
      "C:\\Users\\LAMECK OMENDA\\AppData\\Local\\Temp\\ipykernel_6564\\284507102.py:1: SettingWithCopyWarning: \n",
      "A value is trying to be set on a copy of a slice from a DataFrame.\n",
      "Try using .loc[row_indexer,col_indexer] = value instead\n",
      "\n",
      "See the caveats in the documentation: https://pandas.pydata.org/pandas-docs/stable/user_guide/indexing.html#returning-a-view-versus-a-copy\n",
      "  df2['Transimission_Type'] = df2['Transimission_Type'].replace('Kenyan Used', '')\n"
     ]
    }
   ],
   "source": [
    "df2['Transimission_Type'] = df2['Transimission_Type'].replace('Kenyan Used', '')"
   ]
  },
  {
   "cell_type": "code",
   "execution_count": 57,
   "id": "9b03c7a9-bd22-47ba-b6b7-9e84a27f1c15",
   "metadata": {},
   "outputs": [
    {
     "data": {
      "text/html": [
       "<div>\n",
       "<style scoped>\n",
       "    .dataframe tbody tr th:only-of-type {\n",
       "        vertical-align: middle;\n",
       "    }\n",
       "\n",
       "    .dataframe tbody tr th {\n",
       "        vertical-align: top;\n",
       "    }\n",
       "\n",
       "    .dataframe thead th {\n",
       "        text-align: right;\n",
       "    }\n",
       "</style>\n",
       "<table border=\"1\" class=\"dataframe\">\n",
       "  <thead>\n",
       "    <tr style=\"text-align: right;\">\n",
       "      <th></th>\n",
       "      <th>Name</th>\n",
       "      <th>Transimission_Type</th>\n",
       "      <th>Engine_Size</th>\n",
       "      <th>Usage_Origin</th>\n",
       "      <th>Year</th>\n",
       "      <th>Price</th>\n",
       "      <th>Make</th>\n",
       "      <th>Model</th>\n",
       "      <th>Car_Age</th>\n",
       "      <th>Price_Range</th>\n",
       "    </tr>\n",
       "  </thead>\n",
       "  <tbody>\n",
       "  </tbody>\n",
       "</table>\n",
       "</div>"
      ],
      "text/plain": [
       "Empty DataFrame\n",
       "Columns: [Name, Transimission_Type, Engine_Size, Usage_Origin, Year, Price, Make, Model, Car_Age, Price_Range]\n",
       "Index: []"
      ]
     },
     "execution_count": 57,
     "metadata": {},
     "output_type": "execute_result"
    }
   ],
   "source": [
    "df2[df2['Transimission_Type'] == 'Foreign Used']"
   ]
  },
  {
   "cell_type": "markdown",
   "id": "be8f5813-19ef-4309-8867-54c83a4251c3",
   "metadata": {},
   "source": [
    "Rows succesfully dropped"
   ]
  },
  {
   "cell_type": "markdown",
   "id": "125c96b9-35de-40d4-a0c2-65cac68c04b9",
   "metadata": {},
   "source": [
    "### (ii)Engine size"
   ]
  },
  {
   "cell_type": "code",
   "execution_count": 21,
   "id": "4469102e-a1ce-4dbc-aae5-c64c9800a6a6",
   "metadata": {},
   "outputs": [
    {
     "name": "stderr",
     "output_type": "stream",
     "text": [
      "C:\\Users\\LAMECK OMENDA\\AppData\\Local\\Temp\\ipykernel_6564\\1167919739.py:2: SettingWithCopyWarning: \n",
      "A value is trying to be set on a copy of a slice from a DataFrame.\n",
      "Try using .loc[row_indexer,col_indexer] = value instead\n",
      "\n",
      "See the caveats in the documentation: https://pandas.pydata.org/pandas-docs/stable/user_guide/indexing.html#returning-a-view-versus-a-copy\n",
      "  df2['Engine_Size'] = pd.to_numeric(df2['Engine_Size'].str.replace(r'[^0-9.]', '', regex = True), errors = 'coerce')\n"
     ]
    }
   ],
   "source": [
    "# Drop all characters that are not numeric and convert the column to numeric type\n",
    "df2['Engine_Size'] = pd.to_numeric(df2['Engine_Size'].str.replace(r'[^0-9.]', '', regex = True), errors = 'coerce')"
   ]
  },
  {
   "cell_type": "code",
   "execution_count": 22,
   "id": "53cf2db3-ab77-4b49-bba4-12dce782cfac",
   "metadata": {},
   "outputs": [
    {
     "data": {
      "text/plain": [
       "array([1500., 2700., 2000., 1300., 1200., 1000., 3300., 2500., 4000.,\n",
       "       3000., 2400.,  180., 1600., 3500.,   nan, 4600., 2200., 1800.,\n",
       "       2800., 1400., 6750., 5600., 3600., 2140., 4500., 6000., 4400.,\n",
       "        660., 5700., 5000., 2100., 3200., 2900., 6400., 3800., 3900.,\n",
       "       5500., 2993., 4200., 2300., 4700., 2143., 2018., 2017., 2600.,\n",
       "       6200., 2148.,  750.,  900., 2350., 5200., 1242.,  650., 4300.,\n",
       "       2956., 1499.])"
      ]
     },
     "execution_count": 22,
     "metadata": {},
     "output_type": "execute_result"
    }
   ],
   "source": [
    "# Confirm if droped\n",
    "df2['Engine_Size'].unique()"
   ]
  },
  {
   "cell_type": "markdown",
   "id": "ca485315-686b-451d-977b-3207d5b0d52f",
   "metadata": {},
   "source": [
    "### (iii) Price"
   ]
  },
  {
   "cell_type": "code",
   "execution_count": 29,
   "id": "7e6e5e12-28f5-4e78-bda0-8107843b8297",
   "metadata": {},
   "outputs": [
    {
     "name": "stderr",
     "output_type": "stream",
     "text": [
      "C:\\Users\\LAMECK OMENDA\\AppData\\Local\\Temp\\ipykernel_6564\\666748023.py:2: SettingWithCopyWarning: \n",
      "A value is trying to be set on a copy of a slice from a DataFrame.\n",
      "Try using .loc[row_indexer,col_indexer] = value instead\n",
      "\n",
      "See the caveats in the documentation: https://pandas.pydata.org/pandas-docs/stable/user_guide/indexing.html#returning-a-view-versus-a-copy\n",
      "  df2['Price'] = df2['Price'].str.replace(r'[^0-9.]', '', regex = True).astype(float)\n"
     ]
    }
   ],
   "source": [
    "# Convert the Price column to float type\n",
    "df2['Price'] = df2['Price'].str.replace(r'[^0-9.]', '', regex = True).astype(float)"
   ]
  },
  {
   "cell_type": "markdown",
   "id": "edcdb0f6-b808-45c4-a0a5-e321ae5514d5",
   "metadata": {},
   "source": [
    "The column Price has been converted to float therefore now convert the price in euros into KES"
   ]
  },
  {
   "cell_type": "code",
   "execution_count": 30,
   "id": "16680128-f41a-4761-b634-3659b5aab4ad",
   "metadata": {},
   "outputs": [],
   "source": [
    "# Convert the euro price into KES and confirm if converted\n",
    "df2.at[2412, 'Price'] *= 167.2"
   ]
  },
  {
   "cell_type": "code",
   "execution_count": 31,
   "id": "5ceca6e6-ab83-49af-a6ae-365222c00af1",
   "metadata": {},
   "outputs": [
    {
     "data": {
      "text/html": [
       "<div>\n",
       "<style scoped>\n",
       "    .dataframe tbody tr th:only-of-type {\n",
       "        vertical-align: middle;\n",
       "    }\n",
       "\n",
       "    .dataframe tbody tr th {\n",
       "        vertical-align: top;\n",
       "    }\n",
       "\n",
       "    .dataframe thead th {\n",
       "        text-align: right;\n",
       "    }\n",
       "</style>\n",
       "<table border=\"1\" class=\"dataframe\">\n",
       "  <thead>\n",
       "    <tr style=\"text-align: right;\">\n",
       "      <th></th>\n",
       "      <th>Name</th>\n",
       "      <th>Transimission_Type</th>\n",
       "      <th>Engine_Size</th>\n",
       "      <th>Usage_Origin</th>\n",
       "      <th>Year</th>\n",
       "      <th>Price</th>\n",
       "    </tr>\n",
       "  </thead>\n",
       "  <tbody>\n",
       "    <tr>\n",
       "      <th>2482</th>\n",
       "      <td>Audi A5 s line</td>\n",
       "      <td>Automatic</td>\n",
       "      <td>2000.0</td>\n",
       "      <td>Kenyan Used</td>\n",
       "      <td>2015</td>\n",
       "      <td>2999999.0</td>\n",
       "    </tr>\n",
       "  </tbody>\n",
       "</table>\n",
       "</div>"
      ],
      "text/plain": [
       "                Name Transimission_Type  Engine_Size Usage_Origin  Year  \\\n",
       "2482  Audi A5 s line          Automatic       2000.0  Kenyan Used  2015   \n",
       "\n",
       "          Price  \n",
       "2482  2999999.0  "
      ]
     },
     "execution_count": 31,
     "metadata": {},
     "output_type": "execute_result"
    }
   ],
   "source": [
    "# confirm if converted using iloc\n",
    "df2.iloc[[2412]]"
   ]
  },
  {
   "cell_type": "markdown",
   "id": "3e7d62c9-78d9-4071-9b6a-62905a937b87",
   "metadata": {},
   "source": [
    "Now the price has been converted to KES"
   ]
  },
  {
   "cell_type": "markdown",
   "id": "d896ec3d-84cf-448e-8c7c-9e4f40311777",
   "metadata": {},
   "source": [
    "## Summary Statistics"
   ]
  },
  {
   "cell_type": "code",
   "execution_count": 32,
   "id": "8f7d0c9f-707b-4491-8c25-204fe5811d64",
   "metadata": {},
   "outputs": [
    {
     "data": {
      "text/html": [
       "<div>\n",
       "<style scoped>\n",
       "    .dataframe tbody tr th:only-of-type {\n",
       "        vertical-align: middle;\n",
       "    }\n",
       "\n",
       "    .dataframe tbody tr th {\n",
       "        vertical-align: top;\n",
       "    }\n",
       "\n",
       "    .dataframe thead th {\n",
       "        text-align: right;\n",
       "    }\n",
       "</style>\n",
       "<table border=\"1\" class=\"dataframe\">\n",
       "  <thead>\n",
       "    <tr style=\"text-align: right;\">\n",
       "      <th></th>\n",
       "      <th>Engine_Size</th>\n",
       "      <th>Year</th>\n",
       "      <th>Price</th>\n",
       "    </tr>\n",
       "  </thead>\n",
       "  <tbody>\n",
       "    <tr>\n",
       "      <th>count</th>\n",
       "      <td>2556.000000</td>\n",
       "      <td>2563.000000</td>\n",
       "      <td>2.563000e+03</td>\n",
       "    </tr>\n",
       "    <tr>\n",
       "      <th>mean</th>\n",
       "      <td>2276.863067</td>\n",
       "      <td>2015.271557</td>\n",
       "      <td>4.721773e+06</td>\n",
       "    </tr>\n",
       "    <tr>\n",
       "      <th>std</th>\n",
       "      <td>911.578906</td>\n",
       "      <td>4.061923</td>\n",
       "      <td>6.840463e+06</td>\n",
       "    </tr>\n",
       "    <tr>\n",
       "      <th>min</th>\n",
       "      <td>180.000000</td>\n",
       "      <td>1979.000000</td>\n",
       "      <td>2.605200e+04</td>\n",
       "    </tr>\n",
       "    <tr>\n",
       "      <th>25%</th>\n",
       "      <td>1600.000000</td>\n",
       "      <td>2014.000000</td>\n",
       "      <td>1.650000e+06</td>\n",
       "    </tr>\n",
       "    <tr>\n",
       "      <th>50%</th>\n",
       "      <td>2000.000000</td>\n",
       "      <td>2016.000000</td>\n",
       "      <td>2.999999e+06</td>\n",
       "    </tr>\n",
       "    <tr>\n",
       "      <th>75%</th>\n",
       "      <td>2800.000000</td>\n",
       "      <td>2017.000000</td>\n",
       "      <td>5.199999e+06</td>\n",
       "    </tr>\n",
       "    <tr>\n",
       "      <th>max</th>\n",
       "      <td>6750.000000</td>\n",
       "      <td>2024.000000</td>\n",
       "      <td>2.006398e+08</td>\n",
       "    </tr>\n",
       "  </tbody>\n",
       "</table>\n",
       "</div>"
      ],
      "text/plain": [
       "       Engine_Size         Year         Price\n",
       "count  2556.000000  2563.000000  2.563000e+03\n",
       "mean   2276.863067  2015.271557  4.721773e+06\n",
       "std     911.578906     4.061923  6.840463e+06\n",
       "min     180.000000  1979.000000  2.605200e+04\n",
       "25%    1600.000000  2014.000000  1.650000e+06\n",
       "50%    2000.000000  2016.000000  2.999999e+06\n",
       "75%    2800.000000  2017.000000  5.199999e+06\n",
       "max    6750.000000  2024.000000  2.006398e+08"
      ]
     },
     "execution_count": 32,
     "metadata": {},
     "output_type": "execute_result"
    }
   ],
   "source": [
    "df2.describe()"
   ]
  },
  {
   "cell_type": "markdown",
   "id": "8e33139a-14ec-41a3-a427-7589a50d71fd",
   "metadata": {},
   "source": [
    "## Feature Engineering"
   ]
  },
  {
   "cell_type": "markdown",
   "id": "432fe15d-9e29-4d45-b61c-058dc1c04e68",
   "metadata": {},
   "source": [
    "1.The first step is to split the Name column into 'Make' and 'model'.\n",
    "2.Create a new colum 'Car_Age' based on the colum Year."
   ]
  },
  {
   "cell_type": "markdown",
   "id": "a70a723b-449d-4d11-805c-e3aacea003fe",
   "metadata": {},
   "source": [
    "### (i) Make & Model"
   ]
  },
  {
   "cell_type": "code",
   "execution_count": 34,
   "id": "a67aeb29-42e7-44ba-9a0e-76e409120494",
   "metadata": {},
   "outputs": [
    {
     "name": "stderr",
     "output_type": "stream",
     "text": [
      "C:\\Users\\LAMECK OMENDA\\AppData\\Local\\Temp\\ipykernel_6564\\1817505622.py:3: SettingWithCopyWarning: \n",
      "A value is trying to be set on a copy of a slice from a DataFrame.\n",
      "Try using .loc[row_indexer,col_indexer] = value instead\n",
      "\n",
      "See the caveats in the documentation: https://pandas.pydata.org/pandas-docs/stable/user_guide/indexing.html#returning-a-view-versus-a-copy\n",
      "  df2['Name'] = df2['Name'].str.title()\n",
      "C:\\Users\\LAMECK OMENDA\\AppData\\Local\\Temp\\ipykernel_6564\\1817505622.py:21: SettingWithCopyWarning: \n",
      "A value is trying to be set on a copy of a slice from a DataFrame.\n",
      "Try using .loc[row_indexer,col_indexer] = value instead\n",
      "\n",
      "See the caveats in the documentation: https://pandas.pydata.org/pandas-docs/stable/user_guide/indexing.html#returning-a-view-versus-a-copy\n",
      "  df2[['Make', 'Model']] = df2['Name'].apply(lambda x: pd.Series(split_name(x)))\n",
      "C:\\Users\\LAMECK OMENDA\\AppData\\Local\\Temp\\ipykernel_6564\\1817505622.py:21: SettingWithCopyWarning: \n",
      "A value is trying to be set on a copy of a slice from a DataFrame.\n",
      "Try using .loc[row_indexer,col_indexer] = value instead\n",
      "\n",
      "See the caveats in the documentation: https://pandas.pydata.org/pandas-docs/stable/user_guide/indexing.html#returning-a-view-versus-a-copy\n",
      "  df2[['Make', 'Model']] = df2['Name'].apply(lambda x: pd.Series(split_name(x)))\n"
     ]
    }
   ],
   "source": [
    "# Split column 'Name' into 'Make' and 'Model'\n",
    "\n",
    "df2['Name'] = df2['Name'].str.title()\n",
    "unique_names = ['Alfa Romeo', 'Aston Martin', 'Land Rover', 'Mercedes Benz', 'Rolls Royce', 'Range Rover']\n",
    "\n",
    "def split_name(Name):\n",
    "    for unique_name in unique_names:\n",
    "        if Name.startswith(unique_name):\n",
    "            Make = unique_name\n",
    "            Model = Name[len(Make):].strip()\n",
    "            return Make, Model\n",
    "\n",
    "    single_name_make = Name.split(' ', 1)\n",
    "    if len(single_name_make) > 1:\n",
    "        Make, Model = single_name_make[0], single_name_make[1]\n",
    "    else:\n",
    "        Make = Name\n",
    "        Model = ''\n",
    "    return Make, Model\n",
    "\n",
    "df2[['Make', 'Model']] = df2['Name'].apply(lambda x: pd.Series(split_name(x)))"
   ]
  },
  {
   "cell_type": "code",
   "execution_count": 36,
   "id": "81990138-6baf-4a89-831b-c8e3fecf1903",
   "metadata": {},
   "outputs": [
    {
     "data": {
      "text/html": [
       "<div>\n",
       "<style scoped>\n",
       "    .dataframe tbody tr th:only-of-type {\n",
       "        vertical-align: middle;\n",
       "    }\n",
       "\n",
       "    .dataframe tbody tr th {\n",
       "        vertical-align: top;\n",
       "    }\n",
       "\n",
       "    .dataframe thead th {\n",
       "        text-align: right;\n",
       "    }\n",
       "</style>\n",
       "<table border=\"1\" class=\"dataframe\">\n",
       "  <thead>\n",
       "    <tr style=\"text-align: right;\">\n",
       "      <th></th>\n",
       "      <th>Name</th>\n",
       "      <th>Transimission_Type</th>\n",
       "      <th>Engine_Size</th>\n",
       "      <th>Usage_Origin</th>\n",
       "      <th>Year</th>\n",
       "      <th>Price</th>\n",
       "      <th>Make</th>\n",
       "      <th>Model</th>\n",
       "    </tr>\n",
       "  </thead>\n",
       "  <tbody>\n",
       "    <tr>\n",
       "      <th>0</th>\n",
       "      <td>Volvo S60</td>\n",
       "      <td>Automatic</td>\n",
       "      <td>1500.0</td>\n",
       "      <td>Kenyan Used</td>\n",
       "      <td>2016</td>\n",
       "      <td>1699999.0</td>\n",
       "      <td>Volvo</td>\n",
       "      <td>S60</td>\n",
       "    </tr>\n",
       "    <tr>\n",
       "      <th>1</th>\n",
       "      <td>Toyota Landcruiser Prado</td>\n",
       "      <td>Automatic</td>\n",
       "      <td>2700.0</td>\n",
       "      <td>Kenyan Used</td>\n",
       "      <td>2017</td>\n",
       "      <td>5799999.0</td>\n",
       "      <td>Toyota</td>\n",
       "      <td>Landcruiser Prado</td>\n",
       "    </tr>\n",
       "    <tr>\n",
       "      <th>2</th>\n",
       "      <td>Mazda Cx3</td>\n",
       "      <td>Automatic</td>\n",
       "      <td>2000.0</td>\n",
       "      <td>Foreign Used</td>\n",
       "      <td>2017</td>\n",
       "      <td>2499999.0</td>\n",
       "      <td>Mazda</td>\n",
       "      <td>Cx3</td>\n",
       "    </tr>\n",
       "    <tr>\n",
       "      <th>3</th>\n",
       "      <td>Toyota Cami</td>\n",
       "      <td>Automatic</td>\n",
       "      <td>1300.0</td>\n",
       "      <td>Kenyan Used</td>\n",
       "      <td>2004</td>\n",
       "      <td>579999.0</td>\n",
       "      <td>Toyota</td>\n",
       "      <td>Cami</td>\n",
       "    </tr>\n",
       "    <tr>\n",
       "      <th>4</th>\n",
       "      <td>Bmw X1</td>\n",
       "      <td>Automatic</td>\n",
       "      <td>2000.0</td>\n",
       "      <td>Foreign Used</td>\n",
       "      <td>2017</td>\n",
       "      <td>3799999.0</td>\n",
       "      <td>Bmw</td>\n",
       "      <td>X1</td>\n",
       "    </tr>\n",
       "  </tbody>\n",
       "</table>\n",
       "</div>"
      ],
      "text/plain": [
       "                       Name Transimission_Type  Engine_Size  Usage_Origin  \\\n",
       "0                 Volvo S60          Automatic       1500.0   Kenyan Used   \n",
       "1  Toyota Landcruiser Prado          Automatic       2700.0   Kenyan Used   \n",
       "2                 Mazda Cx3          Automatic       2000.0  Foreign Used   \n",
       "3               Toyota Cami          Automatic       1300.0   Kenyan Used   \n",
       "4                    Bmw X1          Automatic       2000.0  Foreign Used   \n",
       "\n",
       "   Year      Price    Make              Model  \n",
       "0  2016  1699999.0   Volvo                S60  \n",
       "1  2017  5799999.0  Toyota  Landcruiser Prado  \n",
       "2  2017  2499999.0   Mazda                Cx3  \n",
       "3  2004   579999.0  Toyota               Cami  \n",
       "4  2017  3799999.0     Bmw                 X1  "
      ]
     },
     "execution_count": 36,
     "metadata": {},
     "output_type": "execute_result"
    }
   ],
   "source": [
    "# Display the first 5 rows\n",
    "df2.head()"
   ]
  },
  {
   "cell_type": "markdown",
   "id": "3edcd557-6572-4492-b176-929193a0d044",
   "metadata": {},
   "source": [
    "### (ii) Car Age"
   ]
  },
  {
   "cell_type": "code",
   "execution_count": 37,
   "id": "f091eafd-1bb7-45ee-868e-1e5e53d4619d",
   "metadata": {},
   "outputs": [],
   "source": [
    "# Import date\n",
    "from datetime import date"
   ]
  },
  {
   "cell_type": "code",
   "execution_count": 38,
   "id": "0857ffbf-664e-41d5-ba96-0ff864c47a1a",
   "metadata": {},
   "outputs": [],
   "source": [
    "# Get the current year\n",
    "date = date.today()\n",
    "year = date.year"
   ]
  },
  {
   "cell_type": "code",
   "execution_count": 41,
   "id": "a48d5583-02df-4d85-a46b-ddad8a63dc7f",
   "metadata": {},
   "outputs": [
    {
     "name": "stderr",
     "output_type": "stream",
     "text": [
      "C:\\Users\\LAMECK OMENDA\\AppData\\Local\\Temp\\ipykernel_6564\\1235383425.py:2: SettingWithCopyWarning: \n",
      "A value is trying to be set on a copy of a slice from a DataFrame.\n",
      "Try using .loc[row_indexer,col_indexer] = value instead\n",
      "\n",
      "See the caveats in the documentation: https://pandas.pydata.org/pandas-docs/stable/user_guide/indexing.html#returning-a-view-versus-a-copy\n",
      "  df2['Car_Age'] = df2['Year'].apply(lambda x: year - x)\n"
     ]
    }
   ],
   "source": [
    "# Get the car age\n",
    "df2['Car_Age'] = df2['Year'].apply(lambda x: year - x)"
   ]
  },
  {
   "cell_type": "markdown",
   "id": "f6026834-a99f-4cf9-90e2-d4ad871a64e0",
   "metadata": {},
   "source": [
    "### (iii) Price Range"
   ]
  },
  {
   "cell_type": "code",
   "execution_count": 42,
   "id": "a3dd73c7-ded2-47b3-8913-028f4a9f8a33",
   "metadata": {},
   "outputs": [
    {
     "name": "stderr",
     "output_type": "stream",
     "text": [
      "C:\\Users\\LAMECK OMENDA\\AppData\\Local\\Temp\\ipykernel_6564\\885361781.py:19: SettingWithCopyWarning: \n",
      "A value is trying to be set on a copy of a slice from a DataFrame.\n",
      "Try using .loc[row_indexer,col_indexer] = value instead\n",
      "\n",
      "See the caveats in the documentation: https://pandas.pydata.org/pandas-docs/stable/user_guide/indexing.html#returning-a-view-versus-a-copy\n",
      "  df2['Price_Range'] = df2['Price'].apply(lambda x: price_range(x))\n"
     ]
    }
   ],
   "source": [
    "def price_range(Price):\n",
    "    if Price <= 1000000:\n",
    "        return '0-1M'\n",
    "    elif Price <= 2000000:\n",
    "        return '1M-2M'\n",
    "    elif Price <= 3000000:\n",
    "        return '2M-3M'\n",
    "    elif Price <= 5000000:\n",
    "        return '3M-5M'\n",
    "    elif Price <= 10000000:\n",
    "        return '5M-10M'\n",
    "    elif Price <= 20000000:\n",
    "        return '10M-20M'\n",
    "    elif Price <= 30000000:\n",
    "        return '20M-30M'\n",
    "    else:\n",
    "        return 'Above 30M'\n",
    "\n",
    "df2['Price_Range'] = df2['Price'].apply(lambda x: price_range(x))"
   ]
  },
  {
   "cell_type": "code",
   "execution_count": 43,
   "id": "7da4f5fc-1cba-4464-9932-0d945d4fd7fd",
   "metadata": {},
   "outputs": [
    {
     "data": {
      "text/html": [
       "<div>\n",
       "<style scoped>\n",
       "    .dataframe tbody tr th:only-of-type {\n",
       "        vertical-align: middle;\n",
       "    }\n",
       "\n",
       "    .dataframe tbody tr th {\n",
       "        vertical-align: top;\n",
       "    }\n",
       "\n",
       "    .dataframe thead th {\n",
       "        text-align: right;\n",
       "    }\n",
       "</style>\n",
       "<table border=\"1\" class=\"dataframe\">\n",
       "  <thead>\n",
       "    <tr style=\"text-align: right;\">\n",
       "      <th></th>\n",
       "      <th>Name</th>\n",
       "      <th>Transimission_Type</th>\n",
       "      <th>Engine_Size</th>\n",
       "      <th>Usage_Origin</th>\n",
       "      <th>Year</th>\n",
       "      <th>Price</th>\n",
       "      <th>Make</th>\n",
       "      <th>Model</th>\n",
       "      <th>Car_Age</th>\n",
       "      <th>Price_Range</th>\n",
       "    </tr>\n",
       "  </thead>\n",
       "  <tbody>\n",
       "    <tr>\n",
       "      <th>0</th>\n",
       "      <td>Volvo S60</td>\n",
       "      <td>Automatic</td>\n",
       "      <td>1500.0</td>\n",
       "      <td>Kenyan Used</td>\n",
       "      <td>2016</td>\n",
       "      <td>1699999.0</td>\n",
       "      <td>Volvo</td>\n",
       "      <td>S60</td>\n",
       "      <td>8</td>\n",
       "      <td>1M-2M</td>\n",
       "    </tr>\n",
       "    <tr>\n",
       "      <th>1</th>\n",
       "      <td>Toyota Landcruiser Prado</td>\n",
       "      <td>Automatic</td>\n",
       "      <td>2700.0</td>\n",
       "      <td>Kenyan Used</td>\n",
       "      <td>2017</td>\n",
       "      <td>5799999.0</td>\n",
       "      <td>Toyota</td>\n",
       "      <td>Landcruiser Prado</td>\n",
       "      <td>7</td>\n",
       "      <td>5M-10M</td>\n",
       "    </tr>\n",
       "    <tr>\n",
       "      <th>2</th>\n",
       "      <td>Mazda Cx3</td>\n",
       "      <td>Automatic</td>\n",
       "      <td>2000.0</td>\n",
       "      <td>Foreign Used</td>\n",
       "      <td>2017</td>\n",
       "      <td>2499999.0</td>\n",
       "      <td>Mazda</td>\n",
       "      <td>Cx3</td>\n",
       "      <td>7</td>\n",
       "      <td>2M-3M</td>\n",
       "    </tr>\n",
       "    <tr>\n",
       "      <th>3</th>\n",
       "      <td>Toyota Cami</td>\n",
       "      <td>Automatic</td>\n",
       "      <td>1300.0</td>\n",
       "      <td>Kenyan Used</td>\n",
       "      <td>2004</td>\n",
       "      <td>579999.0</td>\n",
       "      <td>Toyota</td>\n",
       "      <td>Cami</td>\n",
       "      <td>20</td>\n",
       "      <td>0-1M</td>\n",
       "    </tr>\n",
       "    <tr>\n",
       "      <th>4</th>\n",
       "      <td>Bmw X1</td>\n",
       "      <td>Automatic</td>\n",
       "      <td>2000.0</td>\n",
       "      <td>Foreign Used</td>\n",
       "      <td>2017</td>\n",
       "      <td>3799999.0</td>\n",
       "      <td>Bmw</td>\n",
       "      <td>X1</td>\n",
       "      <td>7</td>\n",
       "      <td>3M-5M</td>\n",
       "    </tr>\n",
       "  </tbody>\n",
       "</table>\n",
       "</div>"
      ],
      "text/plain": [
       "                       Name Transimission_Type  Engine_Size  Usage_Origin  \\\n",
       "0                 Volvo S60          Automatic       1500.0   Kenyan Used   \n",
       "1  Toyota Landcruiser Prado          Automatic       2700.0   Kenyan Used   \n",
       "2                 Mazda Cx3          Automatic       2000.0  Foreign Used   \n",
       "3               Toyota Cami          Automatic       1300.0   Kenyan Used   \n",
       "4                    Bmw X1          Automatic       2000.0  Foreign Used   \n",
       "\n",
       "   Year      Price    Make              Model  Car_Age Price_Range  \n",
       "0  2016  1699999.0   Volvo                S60        8       1M-2M  \n",
       "1  2017  5799999.0  Toyota  Landcruiser Prado        7      5M-10M  \n",
       "2  2017  2499999.0   Mazda                Cx3        7       2M-3M  \n",
       "3  2004   579999.0  Toyota               Cami       20        0-1M  \n",
       "4  2017  3799999.0     Bmw                 X1        7       3M-5M  "
      ]
     },
     "execution_count": 43,
     "metadata": {},
     "output_type": "execute_result"
    }
   ],
   "source": [
    "df2.head()"
   ]
  },
  {
   "cell_type": "markdown",
   "id": "60dee9df-9e49-4128-9bc5-135ca5e808c8",
   "metadata": {},
   "source": [
    "### Final data cleaning"
   ]
  },
  {
   "cell_type": "code",
   "execution_count": 45,
   "id": "212b19f8-362d-401e-931f-fb62f0f206b3",
   "metadata": {},
   "outputs": [
    {
     "name": "stdout",
     "output_type": "stream",
     "text": [
      "Alfa Romeo\n",
      "Audi\n",
      "Bentley\n",
      "Bmw\n",
      "Chevrolet\n",
      "Citreon\n",
      "Citroen\n",
      "Citroën\n",
      "Daihatsu\n",
      "Dodge\n",
      "Faw\n",
      "Ferrari\n",
      "Ford\n",
      "Hino\n",
      "Honda\n",
      "Hyundai\n",
      "Isuzu\n",
      "Jaguar\n",
      "Jeep\n",
      "Kia\n",
      "Lamborghini\n",
      "Land Rover\n",
      "Landcruiser\n",
      "Landrover\n",
      "Lexus\n",
      "Mark\n",
      "Mazda\n",
      "Mercedes\n",
      "Mercedes Benz\n",
      "Mercedes-Benz\n",
      "Mini\n",
      "Mistubishi\n",
      "Mitsubishi\n",
      "Nissan\n",
      "Peugeot\n",
      "Porsche\n",
      "Range Rover\n",
      "Renault\n",
      "Rolls-Royce\n",
      "Smart\n",
      "Subaru\n",
      "Suzuki\n",
      "Tata\n",
      "Toyota\n",
      "Volkswagen\n",
      "Volvo\n",
      "\n",
      "length: 46\n"
     ]
    }
   ],
   "source": [
    "# Check unique values under 'Make' column\n",
    "make_list = sorted(df2['Make'].unique()) # sort in alphabetic order to identify inconsistency easily.\n",
    "for make in make_list:\n",
    "    print(make)\n",
    "    \n",
    "print(f'\\nlength: {len(make_list)}')"
   ]
  },
  {
   "cell_type": "markdown",
   "id": "fa695a39-065c-4701-aa6d-aee3be444d6c",
   "metadata": {},
   "source": [
    "#### Observation"
   ]
  },
  {
   "cell_type": "markdown",
   "id": "b2579ba2-d99d-4a33-86d9-3506d6ab25f5",
   "metadata": {},
   "source": [
    "1.Mercedes and Mercedes-Benz needs to be replaced with Mercedes Benz.\n",
    "2.Landrover needs to be replaced with Land Rover.\n",
    "3.I need to prepend Toyota where the name Landcruiser, Passo, and Mark appears under Make.\n",
    "4.Mistubushi needs to be replaced with Mitsubishi.\n",
    "5.Citreon and Citroën needs to be replaced with Citroen."
   ]
  },
  {
   "cell_type": "code",
   "execution_count": 46,
   "id": "0250ea59-c588-493f-86e6-7dbdc467cad9",
   "metadata": {},
   "outputs": [
    {
     "name": "stderr",
     "output_type": "stream",
     "text": [
      "C:\\Users\\LAMECK OMENDA\\AppData\\Local\\Temp\\ipykernel_6564\\2296694120.py:2: SettingWithCopyWarning: \n",
      "A value is trying to be set on a copy of a slice from a DataFrame.\n",
      "Try using .loc[row_indexer,col_indexer] = value instead\n",
      "\n",
      "See the caveats in the documentation: https://pandas.pydata.org/pandas-docs/stable/user_guide/indexing.html#returning-a-view-versus-a-copy\n",
      "  df2['Name'] = df2['Name'].str.replace('Landrover', 'Land Rover')\n"
     ]
    }
   ],
   "source": [
    "# Replace Landrover with Land Rover\n",
    "df2['Name'] = df2['Name'].str.replace('Landrover', 'Land Rover')"
   ]
  },
  {
   "cell_type": "code",
   "execution_count": 47,
   "id": "99c1a306-d6bb-4cff-9b07-c9ac4bb2df0a",
   "metadata": {},
   "outputs": [
    {
     "name": "stderr",
     "output_type": "stream",
     "text": [
      "C:\\Users\\LAMECK OMENDA\\AppData\\Local\\Temp\\ipykernel_6564\\60160650.py:2: SettingWithCopyWarning: \n",
      "A value is trying to be set on a copy of a slice from a DataFrame.\n",
      "Try using .loc[row_indexer,col_indexer] = value instead\n",
      "\n",
      "See the caveats in the documentation: https://pandas.pydata.org/pandas-docs/stable/user_guide/indexing.html#returning-a-view-versus-a-copy\n",
      "  df2['Name'] = df2['Name'].str.replace(r'Citroën|Citreon', 'Citroen', regex = True)\n"
     ]
    }
   ],
   "source": [
    "# Replace Citreon and Citroën with Citroen\n",
    "df2['Name'] = df2['Name'].str.replace(r'Citroën|Citreon', 'Citroen', regex = True)"
   ]
  },
  {
   "cell_type": "code",
   "execution_count": 48,
   "id": "4f4eb774-5e0a-48dd-80a9-a17e85972e3f",
   "metadata": {},
   "outputs": [
    {
     "name": "stderr",
     "output_type": "stream",
     "text": [
      "C:\\Users\\LAMECK OMENDA\\AppData\\Local\\Temp\\ipykernel_6564\\3954956124.py:2: SettingWithCopyWarning: \n",
      "A value is trying to be set on a copy of a slice from a DataFrame.\n",
      "Try using .loc[row_indexer,col_indexer] = value instead\n",
      "\n",
      "See the caveats in the documentation: https://pandas.pydata.org/pandas-docs/stable/user_guide/indexing.html#returning-a-view-versus-a-copy\n",
      "  df2['Name'] = df2['Name'].str.replace('Mistubishi', 'Mitsubishi')\n"
     ]
    }
   ],
   "source": [
    "# Replace Mistubushi with Mitsubishi\n",
    "df2['Name'] = df2['Name'].str.replace('Mistubishi', 'Mitsubishi')"
   ]
  },
  {
   "cell_type": "code",
   "execution_count": 49,
   "id": "2fb57007-41ca-438d-bcca-3382767706c0",
   "metadata": {},
   "outputs": [
    {
     "name": "stderr",
     "output_type": "stream",
     "text": [
      "C:\\Users\\LAMECK OMENDA\\AppData\\Local\\Temp\\ipykernel_6564\\990291705.py:2: SettingWithCopyWarning: \n",
      "A value is trying to be set on a copy of a slice from a DataFrame.\n",
      "Try using .loc[row_indexer,col_indexer] = value instead\n",
      "\n",
      "See the caveats in the documentation: https://pandas.pydata.org/pandas-docs/stable/user_guide/indexing.html#returning-a-view-versus-a-copy\n",
      "  df2['Name'] = df2['Name'].str.replace(r'(?<!Mercedes\\s)Mercedes(-Benz)?', 'Mercedes Benz', regex = True) #Using negative look behind (?<!...)\n"
     ]
    }
   ],
   "source": [
    "# Replace Mercedes and Mercedes-Benz with Mercedes Benz.\n",
    "df2['Name'] = df2['Name'].str.replace(r'(?<!Mercedes\\s)Mercedes(-Benz)?', 'Mercedes Benz', regex = True) #Using negative look behind (?<!...)"
   ]
  },
  {
   "cell_type": "code",
   "execution_count": 50,
   "id": "d8a47071-6a79-43bf-a9e6-810602b5a5b3",
   "metadata": {},
   "outputs": [
    {
     "name": "stderr",
     "output_type": "stream",
     "text": [
      "C:\\Users\\LAMECK OMENDA\\AppData\\Local\\Temp\\ipykernel_6564\\77488915.py:2: SettingWithCopyWarning: \n",
      "A value is trying to be set on a copy of a slice from a DataFrame.\n",
      "Try using .loc[row_indexer,col_indexer] = value instead\n",
      "\n",
      "See the caveats in the documentation: https://pandas.pydata.org/pandas-docs/stable/user_guide/indexing.html#returning-a-view-versus-a-copy\n",
      "  df2['Name'] = df2['Name'].apply(lambda x: 'Toyota ' + x if ('Landcruiser' in x or 'Mark' in x or 'Passo' in x) and 'Toyota' not in x else x)\n"
     ]
    }
   ],
   "source": [
    "# Prepend Toyota to Mark, Passoo, and Landcruiser\n",
    "df2['Name'] = df2['Name'].apply(lambda x: 'Toyota ' + x if ('Landcruiser' in x or 'Mark' in x or 'Passo' in x) and 'Toyota' not in x else x)"
   ]
  },
  {
   "cell_type": "code",
   "execution_count": 52,
   "id": "403385e6-a62e-4bcf-933a-b5f19ec3e264",
   "metadata": {},
   "outputs": [
    {
     "name": "stdout",
     "output_type": "stream",
     "text": [
      "Alfa Romeo\n",
      "Audi\n",
      "Bentley\n",
      "Bmw\n",
      "Chevrolet\n",
      "Citroen\n",
      "Daihatsu\n",
      "Dodge\n",
      "Faw\n",
      "Ferrari\n",
      "Ford\n",
      "Hino\n",
      "Honda\n",
      "Hyundai\n",
      "Isuzu\n",
      "Jaguar\n",
      "Jeep\n",
      "Kia\n",
      "Lamborghini\n",
      "Land Rover\n",
      "Lexus\n",
      "Mazda\n",
      "Mercedes Benz\n",
      "Mini\n",
      "Mitsubishi\n",
      "Nissan\n",
      "Peugeot\n",
      "Porsche\n",
      "Range Rover\n",
      "Renault\n",
      "Rolls-Royce\n",
      "Smart\n",
      "Subaru\n",
      "Suzuki\n",
      "Tata\n",
      "Toyota\n",
      "Volkswagen\n",
      "Volvo\n",
      "\n",
      "length: 38\n"
     ]
    },
    {
     "name": "stderr",
     "output_type": "stream",
     "text": [
      "C:\\Users\\LAMECK OMENDA\\AppData\\Local\\Temp\\ipykernel_6564\\2016101481.py:2: SettingWithCopyWarning: \n",
      "A value is trying to be set on a copy of a slice from a DataFrame.\n",
      "Try using .loc[row_indexer,col_indexer] = value instead\n",
      "\n",
      "See the caveats in the documentation: https://pandas.pydata.org/pandas-docs/stable/user_guide/indexing.html#returning-a-view-versus-a-copy\n",
      "  df2[['Make', 'Model']] = df2['Name'].apply(lambda x: pd.Series(split_name(x)))\n"
     ]
    }
   ],
   "source": [
    "# Call the splitting function\n",
    "df2[['Make', 'Model']] = df2['Name'].apply(lambda x: pd.Series(split_name(x)))\n",
    "\n",
    "# Re-check unique values under 'Make' column\n",
    "make_list = sorted(df2['Make'].unique())\n",
    "for make in make_list:\n",
    "    print(make)\n",
    "    \n",
    "print(f'\\nlength: {len(make_list)}')"
   ]
  },
  {
   "cell_type": "markdown",
   "id": "52d252d6-046a-4eff-96b0-93f1f90d6b41",
   "metadata": {},
   "source": [
    "### Final Statistics"
   ]
  },
  {
   "cell_type": "code",
   "execution_count": 54,
   "id": "04dc32a1-ed92-41df-bd0c-1dd0d3bdd475",
   "metadata": {},
   "outputs": [
    {
     "data": {
      "text/html": [
       "<div>\n",
       "<style scoped>\n",
       "    .dataframe tbody tr th:only-of-type {\n",
       "        vertical-align: middle;\n",
       "    }\n",
       "\n",
       "    .dataframe tbody tr th {\n",
       "        vertical-align: top;\n",
       "    }\n",
       "\n",
       "    .dataframe thead th {\n",
       "        text-align: right;\n",
       "    }\n",
       "</style>\n",
       "<table border=\"1\" class=\"dataframe\">\n",
       "  <thead>\n",
       "    <tr style=\"text-align: right;\">\n",
       "      <th></th>\n",
       "      <th>count</th>\n",
       "      <th>mean</th>\n",
       "      <th>std</th>\n",
       "      <th>min</th>\n",
       "      <th>25%</th>\n",
       "      <th>50%</th>\n",
       "      <th>75%</th>\n",
       "      <th>max</th>\n",
       "    </tr>\n",
       "  </thead>\n",
       "  <tbody>\n",
       "    <tr>\n",
       "      <th>Engine_Size</th>\n",
       "      <td>2556.00</td>\n",
       "      <td>2276.86</td>\n",
       "      <td>911.58</td>\n",
       "      <td>180.00</td>\n",
       "      <td>1600.00</td>\n",
       "      <td>2000.00</td>\n",
       "      <td>2800.00</td>\n",
       "      <td>6750.00</td>\n",
       "    </tr>\n",
       "    <tr>\n",
       "      <th>Year</th>\n",
       "      <td>2563.00</td>\n",
       "      <td>2015.27</td>\n",
       "      <td>4.06</td>\n",
       "      <td>1979.00</td>\n",
       "      <td>2014.00</td>\n",
       "      <td>2016.00</td>\n",
       "      <td>2017.00</td>\n",
       "      <td>2024.00</td>\n",
       "    </tr>\n",
       "    <tr>\n",
       "      <th>Price</th>\n",
       "      <td>2563.00</td>\n",
       "      <td>4721773.40</td>\n",
       "      <td>6840463.35</td>\n",
       "      <td>26052.00</td>\n",
       "      <td>1650000.00</td>\n",
       "      <td>2999999.00</td>\n",
       "      <td>5199999.00</td>\n",
       "      <td>200639832.80</td>\n",
       "    </tr>\n",
       "    <tr>\n",
       "      <th>Car_Age</th>\n",
       "      <td>2563.00</td>\n",
       "      <td>8.73</td>\n",
       "      <td>4.06</td>\n",
       "      <td>0.00</td>\n",
       "      <td>7.00</td>\n",
       "      <td>8.00</td>\n",
       "      <td>10.00</td>\n",
       "      <td>45.00</td>\n",
       "    </tr>\n",
       "  </tbody>\n",
       "</table>\n",
       "</div>"
      ],
      "text/plain": [
       "              count       mean        std      min        25%        50%  \\\n",
       "Engine_Size 2556.00    2276.86     911.58   180.00    1600.00    2000.00   \n",
       "Year        2563.00    2015.27       4.06  1979.00    2014.00    2016.00   \n",
       "Price       2563.00 4721773.40 6840463.35 26052.00 1650000.00 2999999.00   \n",
       "Car_Age     2563.00       8.73       4.06     0.00       7.00       8.00   \n",
       "\n",
       "                   75%          max  \n",
       "Engine_Size    2800.00      6750.00  \n",
       "Year           2017.00      2024.00  \n",
       "Price       5199999.00 200639832.80  \n",
       "Car_Age          10.00        45.00  "
      ]
     },
     "execution_count": 54,
     "metadata": {},
     "output_type": "execute_result"
    }
   ],
   "source": [
    "# Display numbers in standard notation\n",
    "pd.options.display.float_format = '{:.2f}'.format\n",
    "\n",
    "df2.describe().T"
   ]
  },
  {
   "cell_type": "markdown",
   "id": "c7f92fda-99cc-4f22-9c49-8ac5eba9f000",
   "metadata": {},
   "source": [
    "### Save the final cleaned data"
   ]
  },
  {
   "cell_type": "code",
   "execution_count": 59,
   "id": "8385da7d-6827-44a6-8fcf-b5919ec11030",
   "metadata": {},
   "outputs": [],
   "source": [
    "df2.to_csv('final_clean_car_data2.csv', index = False)"
   ]
  }
 ],
 "metadata": {
  "kernelspec": {
   "display_name": "Python 3 (ipykernel)",
   "language": "python",
   "name": "python3"
  },
  "language_info": {
   "codemirror_mode": {
    "name": "ipython",
    "version": 3
   },
   "file_extension": ".py",
   "mimetype": "text/x-python",
   "name": "python",
   "nbconvert_exporter": "python",
   "pygments_lexer": "ipython3",
   "version": "3.12.4"
  }
 },
 "nbformat": 4,
 "nbformat_minor": 5
}
